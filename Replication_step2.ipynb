{
 "cells": [
  {
   "cell_type": "code",
   "execution_count": 1,
   "metadata": {
    "collapsed": true
   },
   "outputs": [],
   "source": [
    "\"\"\"\n",
    "This replication will add the dealing of missing values\n",
    "Steps that are identical to the previous replication are grouped together\n",
    "\"\"\""
   ]
  },
  {
   "cell_type": "code",
   "execution_count": 1,
   "metadata": {
    "collapsed": false
   },
   "outputs": [],
   "source": [
    "# Basic packages to manipulate data\n",
    "import numpy as np\n",
    "import pandas as pd\n",
    "\n",
    "# Read data\n",
    "# file 'fraud_machinelearning.csv' is supposedly stored under the current directory\n",
    "# data is a type of DataFrame, and contains all the observations and features\n",
    "data = pd.read_csv(\"./fraud_machinelearning.csv\")\n",
    "\n",
    "# Only 24 features were used in the paper to make the prediction\n",
    "# We create a list that contains the names of these 24 features, of identifier, and of label/fraud\n",
    "first_col = ['GVKEY', 'FYEAR', 'AAER_fraud', 'CHE', 'RECT', 'INVT', 'STI', 'PPEGT', 'IVAO', 'AT', \n",
    "             'DLC', 'TXP', 'LCT', 'DLTT', 'LT', 'SEQ', 'PSTK', 'RE', 'SALE', 'COGS',\n",
    "             'DP', 'XINT', 'TXT', 'IB', 'NI', 'PRCC_F', 'CSHO']\n",
    "\n",
    "# data_first is a new DataFrame that contains only variables that we will use\n",
    "data_first  = data[first_col].copy(deep=True)\n",
    "\n",
    "# In this replication, we will use observations between 1991 and 2001 as training set\n",
    "# \"FYEAR\" is the identifier to select the observations\n",
    "train_91_01 = data_first[data_first.FYEAR > 1990]\n",
    "train_91_01 = train_91_01[train_91_01.FYEAR < 2002]\n",
    "\n",
    "# We will use observations in 2003 as test set\n",
    "test_03 = data_first[data_first.FYEAR == 2003]\n",
    "\n",
    "# Create a new list that contains only the names of the 24 features\n",
    "first_col_features = []\n",
    "for i in first_col:\n",
    "    first_col_features.append(i)\n",
    "first_col_features.remove(\"GVKEY\")\n",
    "first_col_features.remove(\"FYEAR\")\n",
    "first_col_features.remove(\"AAER_fraud\")"
   ]
  },
  {
   "cell_type": "code",
   "execution_count": null,
   "metadata": {
    "collapsed": true
   },
   "outputs": [],
   "source": []
  },
  {
   "cell_type": "code",
   "execution_count": 2,
   "metadata": {
    "collapsed": true
   },
   "outputs": [],
   "source": [
    "# Here the new part starts\n",
    "from sklearn.preprocessing import Imputer"
   ]
  },
  {
   "cell_type": "code",
   "execution_count": 3,
   "metadata": {
    "collapsed": false
   },
   "outputs": [],
   "source": [
    "# In this example, the observations that we used to impute missing values are the ones\n",
    "# that are in the same year(FYEAR)\n",
    "# We take a simple approach: replace missing value with the most frequent value of the feature\n",
    "\n",
    "# Impute training set\n",
    "imp_lis_freq = []\n",
    "for i in train_91_01.FYEAR.unique():\n",
    "    imr_train_freq = Imputer(missing_values='NaN', strategy='most_frequent', axis=0)\n",
    "    imr_train_freq = imr_train_freq.fit(train_91_01[train_91_01.FYEAR == i])\n",
    "    imputed_train_freq = imr_train_freq.transform(train_91_01[train_91_01.FYEAR == i].values)\n",
    "    imp_lis_freq.append(imputed_train_freq)\n",
    "    \n",
    "imputed_train_freq = pd.DataFrame(imp_lis_freq[0])\n",
    "imputed_train_freq.columns = train_91_01.columns\n",
    "\n",
    "for i in range(1, 11):\n",
    "    imputed_tmp_freq = pd.DataFrame(imp_lis_freq[i])\n",
    "    imputed_tmp_freq.columns = train_91_01.columns\n",
    "    imputed_train_freq = imputed_train_freq.append(imputed_tmp_freq)\n",
    "\n",
    "# Impute test set\n",
    "imr_test_freq = Imputer(missing_values='NaN', strategy='most_frequent', axis=0)\n",
    "imr_test_freq = imr_test_freq.fit(test_03)\n",
    "imputed_test_freq = imr_test_freq.transform(test_03.values)\n",
    "imputed_test_freq = pd.DataFrame(imputed_test_freq)\n",
    "imputed_test_freq.columns = test_03.columns"
   ]
  },
  {
   "cell_type": "code",
   "execution_count": 4,
   "metadata": {
    "collapsed": false
   },
   "outputs": [],
   "source": [
    "# Separate train and test set into feature and label\n",
    "fraud_freq_91_01 = imputed_train_freq.AAER_fraud\n",
    "feature_freq_91_01 = imputed_train_freq[first_col_features]\n",
    "\n",
    "fraud_freq_03 = imputed_test_freq.AAER_fraud\n",
    "feature_freq_03 = imputed_test_freq[first_col_features]"
   ]
  },
  {
   "cell_type": "code",
   "execution_count": null,
   "metadata": {
    "collapsed": true
   },
   "outputs": [],
   "source": []
  },
  {
   "cell_type": "code",
   "execution_count": 5,
   "metadata": {
    "collapsed": false
   },
   "outputs": [
    {
     "name": "stdout",
     "output_type": "stream",
     "text": [
      "The AUC of the classifier on 1991~2001 training samples is 1.000\n",
      "The AUC of the classifier on 2003 test year is 0.745\n"
     ]
    }
   ],
   "source": [
    "# Use Random Forest from Scikit-learn as classifier\n",
    "# The reason to choose Random Forst is because its implementation in Scikit-learn\n",
    "# has the option to utilize multi-core CPU processing\n",
    "from sklearn.ensemble import RandomForestClassifier\n",
    "\n",
    "# Set up the basic parameters: build up 500 trees, and use 4 CPU cores for the process\n",
    "clf_RF = RandomForestClassifier(n_estimators=500, n_jobs=4)\n",
    "\n",
    "# train/fit the classifier\n",
    "clf_RF.fit(feature_freq_91_01, fraud_freq_91_01)\n",
    "\n",
    "# Use area under the Receiver Operating Characteristics (ROC) curve (AUC) \n",
    "# to evaluate the performance\n",
    "from sklearn.metrics import roc_auc_score\n",
    "\n",
    "# After training, classifier(clf_RF) can predict the class label of a given observation\n",
    "# Or it can predict the probability that the given observations belong to each class\n",
    "# We use the predicted probability.\n",
    "print(\"The AUC of the classifier on 1991~2001 training samples is %.3f\" \n",
    "       %(roc_auc_score(fraud_freq_91_01, clf_RF.predict_proba(feature_freq_91_01)[:,1])))\n",
    "print(\"The AUC of the classifier on 2003 test year is %.3f\" \n",
    "       %(roc_auc_score(fraud_freq_03, clf_RF.predict_proba(feature_freq_03)[:,1])))"
   ]
  },
  {
   "cell_type": "code",
   "execution_count": null,
   "metadata": {
    "collapsed": true
   },
   "outputs": [],
   "source": [
    "# Comparing with deleting missing value, imputation seems to \n",
    "# improve the performance: test set AUC increases to 0.736\n",
    "# There are two other simple imputation approaches: replacing missing value with the mean or median value\n",
    "# of observations considered\n",
    "# Next step is about tuning parameters with Cross-Validation"
   ]
  }
 ],
 "metadata": {
  "anaconda-cloud": {},
  "kernelspec": {
   "display_name": "Python [conda root]",
   "language": "python",
   "name": "conda-root-py"
  },
  "language_info": {
   "codemirror_mode": {
    "name": "ipython",
    "version": 2
   },
   "file_extension": ".py",
   "mimetype": "text/x-python",
   "name": "python",
   "nbconvert_exporter": "python",
   "pygments_lexer": "ipython2",
   "version": "2.7.12"
  }
 },
 "nbformat": 4,
 "nbformat_minor": 1
}
