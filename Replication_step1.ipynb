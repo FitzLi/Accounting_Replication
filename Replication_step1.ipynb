{
 "cells": [
  {
   "cell_type": "code",
   "execution_count": null,
   "metadata": {
    "collapsed": true
   },
   "outputs": [],
   "source": [
    "\"\"\"\n",
    "This is the most basic replication\n",
    "\"\"\""
   ]
  },
  {
   "cell_type": "code",
   "execution_count": 1,
   "metadata": {
    "collapsed": true
   },
   "outputs": [],
   "source": [
    "# Basic packages to manipulate data\n",
    "import numpy as np\n",
    "import pandas as pd"
   ]
  },
  {
   "cell_type": "code",
   "execution_count": 2,
   "metadata": {
    "collapsed": true
   },
   "outputs": [],
   "source": [
    "# Read data\n",
    "# file 'fraud_machinelearning.csv' is supposedly stored under the current directory\n",
    "# data is a type of DataFrame, and contains all the observations and features\n",
    "data = pd.read_csv(\"./fraud_machinelearning.csv\")"
   ]
  },
  {
   "cell_type": "code",
   "execution_count": 3,
   "metadata": {
    "collapsed": true
   },
   "outputs": [],
   "source": [
    "# Only 24 features were used in the paper to make the prediction\n",
    "# We create a list that contains the names of these 24 features, of identifier, and of label/fraud\n",
    "first_col = ['GVKEY', 'FYEAR', 'AAER_fraud', 'CHE', 'RECT', 'INVT', 'STI', 'PPEGT', 'IVAO', 'AT', \n",
    "             'DLC', 'TXP', 'LCT', 'DLTT', 'LT', 'SEQ', 'PSTK', 'RE', 'SALE', 'COGS',\n",
    "             'DP', 'XINT', 'TXT', 'IB', 'NI', 'PRCC_F', 'CSHO']"
   ]
  },
  {
   "cell_type": "code",
   "execution_count": 4,
   "metadata": {
    "collapsed": true
   },
   "outputs": [],
   "source": [
    "# data_first is a new DataFrame that contains only variables that we will use\n",
    "data_first  = data[first_col].copy(deep=True)"
   ]
  },
  {
   "cell_type": "code",
   "execution_count": 5,
   "metadata": {
    "collapsed": true
   },
   "outputs": [],
   "source": [
    "# In this replication, we will use observations between 1991 and 2001 as training set\n",
    "# \"FYEAR\" is the identifier to select the observations\n",
    "train_91_01 = data_first[data_first.FYEAR > 1990]\n",
    "train_91_01 = train_91_01[train_91_01.FYEAR < 2002]\n",
    "\n",
    "# We will use observations in 2003 as test set\n",
    "test_03 = data_first[data_first.FYEAR == 2003]"
   ]
  },
  {
   "cell_type": "code",
   "execution_count": 6,
   "metadata": {
    "collapsed": true
   },
   "outputs": [],
   "source": [
    "# Drop observations that have missing value on any of their features\n",
    "train_91_01 = train_91_01.dropna(axis=0, how='any')\n",
    "test_03 = test_03.dropna(axis=0, how='any')"
   ]
  },
  {
   "cell_type": "code",
   "execution_count": 7,
   "metadata": {
    "collapsed": false
   },
   "outputs": [],
   "source": [
    "# Create a new list that contains only the names of the 24 features\n",
    "first_col_features = []\n",
    "for i in first_col:\n",
    "    first_col_features.append(i)\n",
    "first_col_features.remove(\"GVKEY\")\n",
    "first_col_features.remove(\"FYEAR\")\n",
    "first_col_features.remove(\"AAER_fraud\")"
   ]
  },
  {
   "cell_type": "code",
   "execution_count": 8,
   "metadata": {
    "collapsed": false
   },
   "outputs": [],
   "source": [
    "# Split training and test sets into features and label/fraud\n",
    "feature_91_01 = train_91_01[first_col_features]\n",
    "fraud_91_01 = train_91_01.AAER_fraud\n",
    "\n",
    "feature_03 = test_03[first_col_features]\n",
    "fraud_03 = test_03.AAER_fraud"
   ]
  },
  {
   "cell_type": "code",
   "execution_count": 9,
   "metadata": {
    "collapsed": false
   },
   "outputs": [],
   "source": [
    "# Use Random Forest from Scikit-learn as classifier\n",
    "# The reason to choose Random Forst is because its implementation in Scikit-learn\n",
    "# has the option to utilize multi-core CPU processing\n",
    "from sklearn.ensemble import RandomForestClassifier"
   ]
  },
  {
   "cell_type": "code",
   "execution_count": 10,
   "metadata": {
    "collapsed": true
   },
   "outputs": [],
   "source": [
    "# Set up the basic parameters: build up 500 trees, and use 4 CPU cores for the process\n",
    "clf_RF = RandomForestClassifier(n_estimators=500, n_jobs=4)"
   ]
  },
  {
   "cell_type": "code",
   "execution_count": 11,
   "metadata": {
    "collapsed": false
   },
   "outputs": [
    {
     "data": {
      "text/plain": [
       "RandomForestClassifier(bootstrap=True, class_weight=None, criterion='gini',\n",
       "            max_depth=None, max_features='auto', max_leaf_nodes=None,\n",
       "            min_impurity_split=1e-07, min_samples_leaf=1,\n",
       "            min_samples_split=2, min_weight_fraction_leaf=0.0,\n",
       "            n_estimators=500, n_jobs=4, oob_score=False, random_state=None,\n",
       "            verbose=0, warm_start=False)"
      ]
     },
     "execution_count": 11,
     "metadata": {},
     "output_type": "execute_result"
    }
   ],
   "source": [
    "# train/fit the classifier\n",
    "clf_RF.fit(feature_91_01, fraud_91_01)"
   ]
  },
  {
   "cell_type": "code",
   "execution_count": 12,
   "metadata": {
    "collapsed": true
   },
   "outputs": [],
   "source": [
    "# Use area under the Receiver Operating Characteristics (ROC) curve (AUC) \n",
    "# to evaluate the performance\n",
    "from sklearn.metrics import roc_auc_score"
   ]
  },
  {
   "cell_type": "code",
   "execution_count": 13,
   "metadata": {
    "collapsed": false
   },
   "outputs": [
    {
     "name": "stdout",
     "output_type": "stream",
     "text": [
      "The AUC of the classifier on 1991~2001 training samples is 1.000\n",
      "The AUC of the classifier on 2003 test year is 0.707\n"
     ]
    }
   ],
   "source": [
    "# After training, classifier(clf_RF) can predict the class label of a given observation\n",
    "# Or it can predict the probability that the given observations belong to each class\n",
    "# We use the predicted probability.\n",
    "print(\"The AUC of the classifier on 1991~2001 training samples is %.3f\" \n",
    "       %(roc_auc_score(fraud_91_01, clf_RF.predict_proba(feature_91_01)[:,1])))\n",
    "print(\"The AUC of the classifier on 2003 test year is %.3f\" \n",
    "       %(roc_auc_score(fraud_03, clf_RF.predict_proba(feature_03)[:,1])))"
   ]
  },
  {
   "cell_type": "code",
   "execution_count": null,
   "metadata": {
    "collapsed": true
   },
   "outputs": [],
   "source": [
    "# Apart from AUC, the paper also proposes three other metrics to evaluate\n",
    "# classifier's performance: NDCG@K, Sensitivity, and Precision\n",
    "# For the sake of code clarity, we will only use AUC for the moment being\n",
    "# The next step is about imputing missing value"
   ]
  }
 ],
 "metadata": {
  "anaconda-cloud": {},
  "kernelspec": {
   "display_name": "Python [conda root]",
   "language": "python",
   "name": "conda-root-py"
  },
  "language_info": {
   "codemirror_mode": {
    "name": "ipython",
    "version": 2
   },
   "file_extension": ".py",
   "mimetype": "text/x-python",
   "name": "python",
   "nbconvert_exporter": "python",
   "pygments_lexer": "ipython2",
   "version": "2.7.12"
  }
 },
 "nbformat": 4,
 "nbformat_minor": 1
}
